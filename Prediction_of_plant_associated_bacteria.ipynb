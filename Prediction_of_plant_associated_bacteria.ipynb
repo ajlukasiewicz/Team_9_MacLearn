{
  "nbformat": 4,
  "nbformat_minor": 0,
  "metadata": {
    "colab": {
      "provenance": [],
      "authorship_tag": "ABX9TyPRKEFvXyViivTmNfbgFMuH",
      "include_colab_link": true
    },
    "kernelspec": {
      "name": "python3",
      "display_name": "Python 3"
    },
    "language_info": {
      "name": "python"
    }
  },
  "cells": [
    {
      "cell_type": "markdown",
      "metadata": {
        "id": "view-in-github",
        "colab_type": "text"
      },
      "source": [
        "<a href=\"https://colab.research.google.com/github/ajlukasiewicz/Team_9_MacLearn/blob/main/Prediction_of_plant_associated_bacteria.ipynb\" target=\"_parent\"><img src=\"https://colab.research.google.com/assets/colab-badge.svg\" alt=\"Open In Colab\"/></a>"
      ]
    },
    {
      "cell_type": "markdown",
      "source": [
        "**Predicting plant associated bacterial from genetic markers**\n",
        "\n",
        "The soil microbiome is a diverse and sensitive assembly of organisms (bacterial and fungal) whose composition changes relative to the soil type, location, and even the plant species. \n",
        "\n",
        "Based on a large dataset of 3800, well-curated, bacterial genomes (Levy et. al., 2017) we aimed to construct a classifier of bacteria, based on three major feature families: Carbohydrate Associated Enzyme families, COG counts, and the % of horizontally transmitted genes within each bacterial genome. \n",
        "\n",
        "Carbohydrate associated enzymes were identified for each genome using the DBCan4 tool, and COG percentages were calculated from the metadata provided by Levy et. al., 2017. \n",
        "\n",
        "Authors of this project are Muyoung Lee, Sarah Coleman, and Alexandra Lukasiewicz to fulfill the requirements of our final project in SDS 384, Scientific Machine Learning. \n",
        "\n",
        "We each have contributed significantly to the review, curation, writing and interpretation of this project. This colab document represents the aggregate of all individual scripts used to modify, train, tune, and evaluate each model. For more information on our individual approaches, please see the jupyter notebooks in each of our git branches. \n",
        "\n",
        "\n"
      ],
      "metadata": {
        "id": "X1TJVOPI9kT8"
      }
    }
  ]
}
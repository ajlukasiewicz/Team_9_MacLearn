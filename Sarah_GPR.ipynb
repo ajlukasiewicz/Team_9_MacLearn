{
  "nbformat": 4,
  "nbformat_minor": 0,
  "metadata": {
    "colab": {
      "provenance": [],
      "authorship_tag": "ABX9TyPR1+VhpDPp7m9TLcmaRR+H",
      "include_colab_link": true
    },
    "kernelspec": {
      "name": "python3",
      "display_name": "Python 3"
    },
    "language_info": {
      "name": "python"
    }
  },
  "cells": [
    {
      "cell_type": "markdown",
      "metadata": {
        "id": "view-in-github",
        "colab_type": "text"
      },
      "source": [
        "<a href=\"https://colab.research.google.com/github/ajlukasiewicz/Team_9_MacLearn/blob/Sarah/Sarah_GPR.ipynb\" target=\"_parent\"><img src=\"https://colab.research.google.com/assets/colab-badge.svg\" alt=\"Open In Colab\"/></a>"
      ]
    },
    {
      "cell_type": "code",
      "execution_count": 1,
      "metadata": {
        "id": "8568bKwMI8Xv"
      },
      "outputs": [],
      "source": [
        "#imports \n",
        "import numpy as np\n",
        "import pandas as pd\n",
        "import matplotlib.pyplot as plt\n",
        "\n",
        "#normalization\n",
        "from sklearn.preprocessing import OneHotEncoder, StandardScaler\n",
        "\n",
        "#splitting and feature selection\n",
        "from sklearn.model_selection import train_test_split\n",
        "from sklearn.feature_selection import VarianceThreshold\n",
        "\n",
        "#model\n",
        "from sklearn.neighbors import KNeighborsClassifier\n",
        "\n",
        "#evaluation\n",
        "from sklearn import metrics"
      ]
    },
    {
      "cell_type": "code",
      "source": [
        "# Used https://colab.research.google.com/notebooks/io.ipynb#scrollTo=RWSJpsyKqHjH as reference for this part\n",
        "\n",
        "from google.colab import drive\n",
        "drive.mount('/content/drive')"
      ],
      "metadata": {
        "colab": {
          "base_uri": "https://localhost:8080/"
        },
        "id": "qhbnMvir9geI",
        "outputId": "d0765634-9cc5-48ef-e7c0-443a8ca6026d"
      },
      "execution_count": 18,
      "outputs": [
        {
          "output_type": "stream",
          "name": "stdout",
          "text": [
            "Drive already mounted at /content/drive; to attempt to forcibly remount, call drive.mount(\"/content/drive\", force_remount=True).\n"
          ]
        }
      ]
    },
    {
      "cell_type": "code",
      "source": [
        "total_data = pd.read_csv(\"/content/drive/My Drive/SDS_Final_Project/cleaned_data.tsv\", sep=\"\\t\")"
      ],
      "metadata": {
        "id": "K5x4ZLprD8Tt"
      },
      "execution_count": 27,
      "outputs": []
    },
    {
      "cell_type": "code",
      "source": [
        "# Removing soil!\n",
        "\n",
        "df = total_data[total_data[\"Classification\"] != \"soil\"]\n",
        "print(df.shape)\n",
        "df.head()\n",
        "\n",
        "y = df[\"Classification\"]\n",
        "X = df.drop(columns = [\"Classification\"])"
      ],
      "metadata": {
        "colab": {
          "base_uri": "https://localhost:8080/"
        },
        "id": "v2ho9iGYFjRW",
        "outputId": "e8b25fb2-dcd5-481e-9529-1f39ebbd5014"
      },
      "execution_count": 32,
      "outputs": [
        {
          "output_type": "stream",
          "name": "stdout",
          "text": [
            "(3261, 21096)\n"
          ]
        }
      ]
    },
    {
      "cell_type": "code",
      "source": [
        "# Splitting test and train dataset\n",
        "\n",
        "X_train, X_test, y_train, y_test = train_test_split(X, y, test_size=0.33, random_state=42)"
      ],
      "metadata": {
        "id": "1s3np3CeGA0Q"
      },
      "execution_count": 33,
      "outputs": []
    },
    {
      "cell_type": "code",
      "source": [
        "# Confirming ratio of PA and NPA\n",
        "\n",
        "X_train_PA = X_train[y_train == 'PA']\n",
        "X_train_NPA = X_train[y_train == 'NPA']\n",
        "y_train_PA = y_train == \"PA\"\n",
        "y_train_NPA = y_train == \"NPA\"\n",
        "\n",
        "X_test_PA = X_test[y_test == 'PA']\n",
        "X_test_NPA = X_test[y_test == 'NPA']\n",
        "y_test_PA = y_test == \"PA\"\n",
        "y_test_NPA = y_test == \"NPA\""
      ],
      "metadata": {
        "id": "vMe32zGkGpXH"
      },
      "execution_count": 37,
      "outputs": []
    },
    {
      "cell_type": "code",
      "source": [
        "ratio_X_train = len(X_train_NPA)/len(X_train_PA)\n",
        "ratio_y_train = len(y_train_NPA)/len(y_train_PA)\n"
      ],
      "metadata": {
        "id": "Fn60-5eIG9KR"
      },
      "execution_count": 39,
      "outputs": []
    }
  ]
}